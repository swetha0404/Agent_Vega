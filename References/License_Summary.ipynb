{
 "cells": [
  {
   "cell_type": "code",
   "execution_count": 4,
   "id": "a9c44315-060a-473c-920e-82699539b97b",
   "metadata": {},
   "outputs": [
    {
     "name": "stderr",
     "output_type": "stream",
     "text": [
      "D:\\Agentic-AI\\CrewAI-Code\\latest_ai_developments\\.venv\\Lib\\site-packages\\urllib3\\connectionpool.py:1097: InsecureRequestWarning: Unverified HTTPS request is being made to host 'authtesting.likemindscloud.com'. Adding certificate verification is strongly advised. See: https://urllib3.readthedocs.io/en/latest/advanced-usage.html#tls-warnings\n",
      "  warnings.warn(\n"
     ]
    },
    {
     "name": "stdout",
     "output_type": "stream",
     "text": [
      "License Information:\n",
      "{'id': '00759624', 'usedConnections': 0, 'tier': 'Free', 'issueDate': '2025-02-03T18:30:00.000Z', 'expirationDate': '2026-02-02T18:30:00.000Z', 'enforcementType': '3', 'version': '12.2', 'product': 'PingFederate', 'organization': 'LikeMinds Consulting Inc', 'gracePeriod': 1, 'licenseGroups': [], 'features': [{'name': 'DeploymentMethod', 'value': 'Traditional'}], 'oauthEnabled': True, 'provisioningEnabled': True, 'wsTrustEnabled': True, 'bridgeMode': False}\n"
     ]
    }
   ],
   "source": [
    "import requests\n",
    "from requests.auth import HTTPBasicAuth\n",
    "\n",
    "API_ENDPOINT = \"https://<pf-hostname>:9999/pf-admin-api/v1/license\"\n",
    "\n",
    "USERNAME = \"Administrator\"\n",
    "PASSWORD = \"PF Password\"\n",
    "\n",
    "headers = {\n",
    "    \"Accept\": \"application/json\",\n",
    "    \"X-XSRF-Header\": \"PingFederate\"  # required for CSRF protection\n",
    "}\n",
    "\n",
    "try:\n",
    "    response = requests.get(\n",
    "        API_ENDPOINT,\n",
    "        auth=HTTPBasicAuth(USERNAME, PASSWORD),\n",
    "        headers=headers,\n",
    "        verify=False\n",
    "    )\n",
    "\n",
    "    if response.status_code == 200:\n",
    "        license_info = response.json()\n",
    "        print(\"License Information:\")\n",
    "        print(license_info)\n",
    "    else:\n",
    "        print(f\"Error {response.status_code}: {response.text}\")+\n",
    "\n",
    "except Exception as e:\n",
    "    print(f\"Failed to fetch license info: {e}\")\n"
   ]
  },
  {
   "cell_type": "code",
   "execution_count": null,
   "id": "d0624fca-df75-4a88-b9eb-1e4ae9953bb9",
   "metadata": {},
   "outputs": [],
   "source": []
  }
 ],
 "metadata": {
  "kernelspec": {
   "display_name": "Python 3 (ipykernel)",
   "language": "python",
   "name": "python3"
  },
  "language_info": {
   "codemirror_mode": {
    "name": "ipython",
    "version": 3
   },
   "file_extension": ".py",
   "mimetype": "text/x-python",
   "name": "python",
   "nbconvert_exporter": "python",
   "pygments_lexer": "ipython3",
   "version": "3.11.9"
  }
 },
 "nbformat": 4,
 "nbformat_minor": 5
}
